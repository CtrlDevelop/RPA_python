#Using rpa 
import rpa as r
import tagui as t

r.init()
r.url('https://www.google.com')
r.type('//*[@name="q"]', 'decentralization[enter]')
print(r.read('result-stats'))
r.snap('page', 'results.png')
r.close()

#Using PyAutoGUI
import pyautogui as pg

#some basic functions
pg.position()

pg.moveTo(600, 700)

pg.dragTo(600, 700)

pg.size()

pg.typewrite("Hello there!")

pg.keyDown('spacebar')
pg.keyUp('spacebar')

pg.alert('This is an alert message')
pg.prompt("Hi hello")
pg.password('This is a password msg')


#Simple function on Google to search, copy, paste and download images
import webbrowser
webbrowser.open_new('http://www.google.com') 
pg.PAUSE = 2
pg.moveTo(772, 490)
pg.click(772, 490)
pg.write('dog images')
pg.press('enter')
pg.click(587, 64)
pg.hotkey('ctrl','c')
webbrowser.open_new('http://www.google.com') 
pg.click(587, 64,2, 2)
pg.hotkey('ctrl', 'v')
pg.press('enter')
im = pyautogui.screenshot()
im.show()
